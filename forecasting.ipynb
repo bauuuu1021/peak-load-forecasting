{
 "cells": [
  {
   "cell_type": "markdown",
   "metadata": {},
   "source": [
    "# DSAI HW1 Peak Load Forecasting\n",
    "contributed by < `bauuuu1021` >\n",
    "* [作業要求](https://hackmd.io/APjYJ2KtQ6CPI0MMUyjmjA?view)\n",
    "\n",
    "## 執行\n",
    "\n",
    "* 套件安裝\n",
    "   ```\n",
    "   pip install -r requirements.txt\n",
    "   ```\n",
    "* 程式執行\n",
    "    ```\n",
    "    python3 app.py\n",
    "    ```\n",
    "\n",
    "## 指令紀錄 \n",
    "* jupyter \n",
    "    * [安裝](https://jupyter.org/install.html)\n",
    "    * 執行<br>\n",
    "      `$ jupyter notebook`\n",
    "      \n",
    "* module version<br>\n",
    "    `$ pip show <package>`\n",
    "    \n",
    "    \n",
    "## 開發紀錄\n",
    "\n",
    "\n",
    "\n",
    "## 參考資料\n",
    "* [台電供電資料](https://data.gov.tw/dataset/19995)\n",
    "* [Simple Guide to creating Predictive Models](https://medium.com/datadriveninvestor/a-simple-guide-to-creating-predictive-models-in-python-part-2a-aa86ece98f86?fbclid=IwAR3q5S2jS_VnU3nSBwodFuGv3PFxRy3qSOwRe5brUwB_m7tki9bUn9bDD9Y)\n",
    "* [train&test split](https://codertw.com/%E7%A8%8B%E5%BC%8F%E8%AA%9E%E8%A8%80/37690/)"
   ]
  }
 ],
 "metadata": {
  "kernelspec": {
   "display_name": "Python 3",
   "language": "python",
   "name": "python3"
  },
  "language_info": {
   "codemirror_mode": {
    "name": "ipython",
    "version": 3
   },
   "file_extension": ".py",
   "mimetype": "text/x-python",
   "name": "python",
   "nbconvert_exporter": "python",
   "pygments_lexer": "ipython3",
   "version": "3.6.8"
  }
 },
 "nbformat": 4,
 "nbformat_minor": 2
}
