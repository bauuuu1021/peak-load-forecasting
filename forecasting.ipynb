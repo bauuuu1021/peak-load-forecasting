{
 "cells": [
  {
   "cell_type": "markdown",
   "metadata": {},
   "source": [
    "# DSAI HW1 Peak Load Forecasting\n",
    "contributed by < `bauuuu1021` >\n",
    "* [作業要求](https://hackmd.io/APjYJ2KtQ6CPI0MMUyjmjA?view)\n",
    "\n",
    "## 執行\n",
    "\n",
    "* 套件安裝\n",
    "   ```\n",
    "   pip install -r requirements.txt\n",
    "   ```\n",
    "* 程式執行\n",
    "    ```\n",
    "    python3 app.py\n",
    "    ```\n",
    "\n",
    "## 指令紀錄\n",
    "* jupyter \n",
    "    * [安裝](https://jupyter.org/install.html)\n",
    "    * 執行\n",
    "      ```\n",
    "      $ jupyter notebook\n",
    "      ```\n",
    "      \n",
    "* package version\n",
    "    ```\n",
    "    $ pip show <package>\n",
    "    ```\n",
    "    \n",
    "\n",
    "## 參考資料\n",
    "* [台電供電資料](https://data.gov.tw/dataset/19995)"
   ]
  },
  {
   "cell_type": "code",
   "execution_count": null,
   "metadata": {},
   "outputs": [],
   "source": []
  },
  {
   "cell_type": "code",
   "execution_count": null,
   "metadata": {},
   "outputs": [],
   "source": []
  }
 ],
 "metadata": {
  "kernelspec": {
   "display_name": "Python 3",
   "language": "python",
   "name": "python3"
  },
  "language_info": {
   "codemirror_mode": {
    "name": "ipython",
    "version": 3
   },
   "file_extension": ".py",
   "mimetype": "text/x-python",
   "name": "python",
   "nbconvert_exporter": "python",
   "pygments_lexer": "ipython3",
   "version": "3.6.8"
  }
 },
 "nbformat": 4,
 "nbformat_minor": 2
}
