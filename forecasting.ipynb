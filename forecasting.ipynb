{
 "cells": [
  {
   "attachments": {},
   "cell_type": "markdown",
   "metadata": {},
   "source": [
    "# DSAI HW1 Peak Load Forecasting\n",
    "contributed by < `bauuuu1021` >\n",
    "* [作業要求](https://hackmd.io/s/H1-n8AhPN)\n",
    "\n",
    "## 執行\n",
    "\n",
    "* 套件安裝\n",
    "   ```\n",
    "   pip install -r requirements.txt\n",
    "   ```\n",
    "* 程式執行\n",
    "    ```\n",
    "    python3 app.py\n",
    "    ```\n",
    "\n",
    "## 指令紀錄 \n",
    "* jupyter \n",
    "    * [安裝](https://jupyter.org/install.html)\n",
    "    * 執行<br>\n",
    "      `$ jupyter notebook`\n",
    "      \n",
    "* module version<br>\n",
    "    `$ pip show <package>`\n",
    "    \n",
    "    \n",
    "## 開發紀錄\n",
    "### 程式主要架構\n",
    "* 自 csv 檔中分離 `預測目標` 及 `其他`\n",
    "* 選取部份資料為 `training set` 其他為 `testing set`<br>\n",
    "   其中 **training set 佔 70%**\n",
    "* 將 `其他` 資料做 feature scaling ，使平均變成 0，標準差變成 1\n",
    "* 新增分類器、training、以 testing set 做預測\n",
    "* 比較 testing set 預測及實際結果\n",
    "    \n",
    "    \n",
    "### Version 1\n",
    "\n",
    "* training data including\n",
    "    * date\n",
    "    * pure_peak_ability\n",
    "    * peak_load\n",
    "    * backup_power\n",
    "    * backup_rate\n",
    "    * industry_use\t\n",
    "    * general_use\n",
    "    \n",
    "* result \n",
    "    * percentage deviation : 3~5%\n",
    "    * avg. deviation of testing set : about 1800\n",
    "\n",
    "\n",
    "## 參考資料\n",
    "* [台電供電資料](https://data.gov.tw/dataset/19995)\n",
    "* [Simple Guide to creating Predictive Models](https://medium.com/datadriveninvestor/a-simple-guide-to-creating-predictive-models-in-python-part-2a-aa86ece98f86?fbclid=IwAR3q5S2jS_VnU3nSBwodFuGv3PFxRy3qSOwRe5brUwB_m7tki9bUn9bDD9Y)\n",
    "* [train&test split](https://codertw.com/%E7%A8%8B%E5%BC%8F%E8%AA%9E%E8%A8%80/37690/)"
   ]
  }
 ],
 "metadata": {
  "kernelspec": {
   "display_name": "Python 3",
   "language": "python",
   "name": "python3"
  },
  "language_info": {
   "codemirror_mode": {
    "name": "ipython",
    "version": 3
   },
   "file_extension": ".py",
   "mimetype": "text/x-python",
   "name": "python",
   "nbconvert_exporter": "python",
   "pygments_lexer": "ipython3",
   "version": "3.6.8"
  }
 },
 "nbformat": 4,
 "nbformat_minor": 2
}
